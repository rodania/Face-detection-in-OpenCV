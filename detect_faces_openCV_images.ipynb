{
 "cells": [
  {
   "cell_type": "code",
   "execution_count": 1,
   "metadata": {},
   "outputs": [],
   "source": [
    "import numpy as np\n",
    "import cv2"
   ]
  },
  {
   "cell_type": "code",
   "execution_count": 2,
   "metadata": {},
   "outputs": [],
   "source": [
    "# load serialized model from disk\n",
    "net = cv2.dnn.readNetFromCaffe('source/deploy.prototxt.txt', \n",
    "                               'source/res10_300x300_ssd_iter_140000.caffemodel')\n",
    "\n",
    "# load the input image & copy it\n",
    "image = cv2.imread('me-anas.jpg')\n",
    "imgCopy = image.copy()\n",
    "h, w = image.shape[:2]\n",
    "# construct an input blob for the image, resize, and normalise\n",
    "blob = cv2.dnn.blobFromImage(cv2.resize(image, (300, 300)), 1.0, \n",
    "                             (300, 300), (104.0, 177.0, 123.0))"
   ]
  },
  {
   "cell_type": "code",
   "execution_count": 3,
   "metadata": {},
   "outputs": [],
   "source": [
    "# pass the blob through the model to get detections & predictions\n",
    "net.setInput(blob)\n",
    "detections = net.forward()"
   ]
  },
  {
   "cell_type": "code",
   "execution_count": null,
   "metadata": {},
   "outputs": [],
   "source": [
    "# define the minimum confidence\n",
    "min_confidence = 0.7\n",
    "\n",
    "# loop over the detections\n",
    "for i in range(detections.shape[2]):\n",
    "    # extract the confidence (i.e., probability) associated with the prediction\n",
    "    confidence = detections[0, 0, i, 2]\n",
    "    \n",
    "    # filter out weak detections by ensuring the `confidence` is > the minimum confidence\n",
    "    if confidence > min_confidence:\n",
    "        # compute the (x, y)-coordinates of the bounding box for the object\n",
    "        box = detections[0, 0, i, 3:7] * np.array([w, h, w, h])\n",
    "        (startX, startY, endX, endY) = box.astype('int')\n",
    "        \n",
    "        crop_img = image[startY:endY, startX: endX]\n",
    "        cv2.imwrite('croped'+ str(i)+'.jpg', crop_img)\n",
    "        # draw the bounding box of the face along with the associated probability\n",
    "        text = \"{:.2f}%\".format(confidence * 100)\n",
    "        y = startY - 10 if startY - 10 > 10 else startY + 10\n",
    "        cv2.rectangle(imgCopy, (startX, startY), (endX, endY), (0, 0, 255), 2)\n",
    "        cv2.putText(imgCopy, text, (startX, y), cv2.FONT_HERSHEY_SIMPLEX, 0.45, (0, 0, 255), 2)\n",
    "        \n",
    "# show the output image\n",
    "cv2.imshow(\"Output\", imgCopy)\n",
    "cv2.imshow(\"cropped\", crop_img)\n",
    "cv2.waitKey(0)\n",
    "cv2.destroyAllWindows()"
   ]
  }
 ],
 "metadata": {
  "kernelspec": {
   "display_name": "CV",
   "language": "python",
   "name": "cv"
  },
  "language_info": {
   "codemirror_mode": {
    "name": "ipython",
    "version": 3
   },
   "file_extension": ".py",
   "mimetype": "text/x-python",
   "name": "python",
   "nbconvert_exporter": "python",
   "pygments_lexer": "ipython3",
   "version": "3.7.8"
  }
 },
 "nbformat": 4,
 "nbformat_minor": 4
}
